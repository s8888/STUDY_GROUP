{
 "cells": [
  {
   "cell_type": "code",
   "execution_count": 3,
   "metadata": {
    "collapsed": false
   },
   "outputs": [
    {
     "name": "stdout",
     "output_type": "stream",
     "text": [
      "\n",
      "Parsing ./cfg/tiny-yolo-voc.cfg\n",
      "Parsing cfg/tiny-yolo-voc.cfg\n",
      "Loading bin/tiny-yolo-voc.weights ...\n",
      "Successfully identified 63471556 bytes\n",
      "Finished in 0.0199434757232666s\n",
      "Model has a VOC model name, loading VOC labels.\n",
      "\n",
      "Building net ...\n",
      "Source | Train? | Layer description                | Output size\n",
      "-------+--------+----------------------------------+---------------\n",
      "       |        | input                            | (?, 416, 416, 3)\n",
      " Load  |  Yep!  | conv 3x3p1_1  +bnorm  leaky      | (?, 416, 416, 16)\n",
      " Load  |  Yep!  | maxp 2x2p0_2                     | (?, 208, 208, 16)\n",
      " Load  |  Yep!  | conv 3x3p1_1  +bnorm  leaky      | (?, 208, 208, 32)\n",
      " Load  |  Yep!  | maxp 2x2p0_2                     | (?, 104, 104, 32)\n",
      " Load  |  Yep!  | conv 3x3p1_1  +bnorm  leaky      | (?, 104, 104, 64)\n",
      " Load  |  Yep!  | maxp 2x2p0_2                     | (?, 52, 52, 64)\n",
      " Load  |  Yep!  | conv 3x3p1_1  +bnorm  leaky      | (?, 52, 52, 128)\n",
      " Load  |  Yep!  | maxp 2x2p0_2                     | (?, 26, 26, 128)\n",
      " Load  |  Yep!  | conv 3x3p1_1  +bnorm  leaky      | (?, 26, 26, 256)\n",
      " Load  |  Yep!  | maxp 2x2p0_2                     | (?, 13, 13, 256)\n",
      " Load  |  Yep!  | conv 3x3p1_1  +bnorm  leaky      | (?, 13, 13, 512)\n",
      " Load  |  Yep!  | maxp 2x2p0_1                     | (?, 13, 13, 512)\n",
      " Load  |  Yep!  | conv 3x3p1_1  +bnorm  leaky      | (?, 13, 13, 1024)\n",
      " Load  |  Yep!  | conv 3x3p1_1  +bnorm  leaky      | (?, 13, 13, 1024)\n",
      " Load  |  Yep!  | conv 1x1p0_1    linear           | (?, 13, 13, 125)\n",
      "-------+--------+----------------------------------+---------------\n",
      "Running entirely on CPU\n",
      "Finished in 2.962599992752075s\n",
      "\n",
      "Forwarding 8 inputs ...\n",
      "Total time = 5.5520524978637695s / 8 inps = 1.440908565450005 ips\n",
      "Post processing 8 inputs ...\n",
      "Total time = 0.4179983139038086s / 8 inps = 19.13883318161181 ips\n"
     ]
    },
    {
     "name": "stderr",
     "output_type": "stream",
     "text": [
      "'chcp' 不是內部或外部命令、可執行的程式或批次檔。\n",
      "2018-05-08 10:46:27.150540: W c:\\l\\tensorflow_1501918863922\\work\\tensorflow-1.2.1\\tensorflow\\core\\platform\\cpu_feature_guard.cc:45] The TensorFlow library wasn't compiled to use SSE instructions, but these are available on your machine and could speed up CPU computations.\n",
      "2018-05-08 10:46:27.152431: W c:\\l\\tensorflow_1501918863922\\work\\tensorflow-1.2.1\\tensorflow\\core\\platform\\cpu_feature_guard.cc:45] The TensorFlow library wasn't compiled to use SSE2 instructions, but these are available on your machine and could speed up CPU computations.\n",
      "2018-05-08 10:46:27.153018: W c:\\l\\tensorflow_1501918863922\\work\\tensorflow-1.2.1\\tensorflow\\core\\platform\\cpu_feature_guard.cc:45] The TensorFlow library wasn't compiled to use SSE3 instructions, but these are available on your machine and could speed up CPU computations.\n",
      "2018-05-08 10:46:27.153391: W c:\\l\\tensorflow_1501918863922\\work\\tensorflow-1.2.1\\tensorflow\\core\\platform\\cpu_feature_guard.cc:45] The TensorFlow library wasn't compiled to use SSE4.1 instructions, but these are available on your machine and could speed up CPU computations.\n",
      "2018-05-08 10:46:27.153802: W c:\\l\\tensorflow_1501918863922\\work\\tensorflow-1.2.1\\tensorflow\\core\\platform\\cpu_feature_guard.cc:45] The TensorFlow library wasn't compiled to use SSE4.2 instructions, but these are available on your machine and could speed up CPU computations.\n",
      "2018-05-08 10:46:27.154178: W c:\\l\\tensorflow_1501918863922\\work\\tensorflow-1.2.1\\tensorflow\\core\\platform\\cpu_feature_guard.cc:45] The TensorFlow library wasn't compiled to use AVX instructions, but these are available on your machine and could speed up CPU computations.\n",
      "2018-05-08 10:46:27.154580: W c:\\l\\tensorflow_1501918863922\\work\\tensorflow-1.2.1\\tensorflow\\core\\platform\\cpu_feature_guard.cc:45] The TensorFlow library wasn't compiled to use AVX2 instructions, but these are available on your machine and could speed up CPU computations.\n",
      "2018-05-08 10:46:27.154932: W c:\\l\\tensorflow_1501918863922\\work\\tensorflow-1.2.1\\tensorflow\\core\\platform\\cpu_feature_guard.cc:45] The TensorFlow library wasn't compiled to use FMA instructions, but these are available on your machine and could speed up CPU computations.\n"
     ]
    }
   ],
   "source": [
    "!python ./flow --imgdir sample_img/ --model cfg/tiny-yolo-voc.cfg --load bin/tiny-yolo-voc.weights --json"
   ]
  },
  {
   "cell_type": "code",
   "execution_count": 2,
   "metadata": {
    "collapsed": false
   },
   "outputs": [
    {
     "name": "stdout",
     "output_type": "stream",
     "text": [
      "sample_img/out\\sample_computer.json\n",
      "[{'label': 'tvmonitor', 'confidence': 0.9, 'topleft': {'x': 147, 'y': 90}, 'bottomright': {'x': 361, 'y': 274}}]\n",
      "sample_img/out\\sample_dog.json\n",
      "[{'label': 'car', 'confidence': 0.76, 'topleft': {'x': 443, 'y': 90}, 'bottomright': {'x': 685, 'y': 185}}, {'label': 'dog', 'confidence': 0.81, 'topleft': {'x': 96, 'y': 222}, 'bottomright': {'x': 344, 'y': 531}}]\n",
      "sample_img/out\\sample_eagle.json\n",
      "[{'label': 'bird', 'confidence': 0.97, 'topleft': {'x': 78, 'y': 86}, 'bottomright': {'x': 607, 'y': 431}}]\n",
      "sample_img/out\\sample_giraffe.json\n",
      "[]\n",
      "sample_img/out\\sample_horses.json\n",
      "[{'label': 'horse', 'confidence': 0.87, 'topleft': {'x': 0, 'y': 185}, 'bottomright': {'x': 342, 'y': 417}}]\n",
      "sample_img/out\\sample_office.json\n",
      "[{'label': 'chair', 'confidence': 0.56, 'topleft': {'x': 851, 'y': 1637}, 'bottomright': {'x': 1648, 'y': 2449}}, {'label': 'person', 'confidence': 0.54, 'topleft': {'x': 2747, 'y': 988}, 'bottomright': {'x': 3021, 'y': 1867}}]\n",
      "sample_img/out\\sample_person.json\n",
      "[{'label': 'cow', 'confidence': 0.55, 'topleft': {'x': 68, 'y': 267}, 'bottomright': {'x': 185, 'y': 354}}, {'label': 'person', 'confidence': 0.68, 'topleft': {'x': 179, 'y': 104}, 'bottomright': {'x': 280, 'y': 373}}, {'label': 'sheep', 'confidence': 0.84, 'topleft': {'x': 424, 'y': 145}, 'bottomright': {'x': 592, 'y': 335}}]\n",
      "sample_img/out\\sample_scream.json\n",
      "[]\n"
     ]
    }
   ],
   "source": [
    "import glob, os\n",
    "import json\n",
    "\n",
    "parent_dir = 'sample_img/out'\n",
    "for jsonfile in glob.glob(os.path.join(parent_dir, '*.json')):\n",
    "    print(jsonfile)\n",
    "    try:\n",
    "        with open(jsonfile, 'r') as f:\n",
    "            print(json.load(f))\n",
    "    except Exception as e:\n",
    "        print('load json file failed', str(e))"
   ]
  },
  {
   "cell_type": "code",
   "execution_count": null,
   "metadata": {
    "collapsed": true
   },
   "outputs": [],
   "source": []
  }
 ],
 "metadata": {
  "kernelspec": {
   "display_name": "Python 3",
   "language": "python",
   "name": "python3"
  },
  "language_info": {
   "codemirror_mode": {
    "name": "ipython",
    "version": 3
   },
   "file_extension": ".py",
   "mimetype": "text/x-python",
   "name": "python",
   "nbconvert_exporter": "python",
   "pygments_lexer": "ipython3",
   "version": "3.6.0"
  }
 },
 "nbformat": 4,
 "nbformat_minor": 2
}
