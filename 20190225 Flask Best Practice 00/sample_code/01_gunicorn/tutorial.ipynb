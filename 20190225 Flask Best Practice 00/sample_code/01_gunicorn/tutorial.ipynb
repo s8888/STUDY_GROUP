{
 "cells": [
  {
   "cell_type": "markdown",
   "metadata": {},
   "source": [
    "# gunicorn\n",
    "基本使用方式  \n",
    "```\n",
    "gunicorn -b [address] [script file name]:[flask app instance name]\n",
    "```"
   ]
  },
  {
   "cell_type": "code",
   "execution_count": null,
   "metadata": {},
   "outputs": [],
   "source": [
    "!cat flask_app.py"
   ]
  },
  {
   "cell_type": "markdown",
   "metadata": {},
   "source": [
    "在 terminal 執行\n",
    "```\n",
    "gunicorn -b localhost:8080 flask_app:app\n",
    "```"
   ]
  },
  {
   "cell_type": "code",
   "execution_count": null,
   "metadata": {},
   "outputs": [],
   "source": [
    "!curl localhost:8080"
   ]
  },
  {
   "cell_type": "markdown",
   "metadata": {},
   "source": [
    "# gunicorn 的 log demo\n",
    "參考 [gunicorn部署flask的log处理](https://zhuanlan.zhihu.com/p/36909560)"
   ]
  },
  {
   "cell_type": "code",
   "execution_count": null,
   "metadata": {},
   "outputs": [],
   "source": [
    "!cat flask_app_org.py"
   ]
  },
  {
   "cell_type": "code",
   "execution_count": null,
   "metadata": {},
   "outputs": [],
   "source": [
    "!cat flask_app_log.py"
   ]
  },
  {
   "cell_type": "markdown",
   "metadata": {},
   "source": [
    "在 terminal 執行 gunicorn\n",
    "```\n",
    "gunicorn -b localhost:8080 --log-level=warning flask_app_org:app\n",
    "```"
   ]
  },
  {
   "cell_type": "code",
   "execution_count": null,
   "metadata": {},
   "outputs": [],
   "source": [
    "!siege -c 5 -r 1 -v http://localhost:8080\n",
    "# gunicorn 會出現所有 log level 的 log"
   ]
  },
  {
   "cell_type": "markdown",
   "metadata": {},
   "source": [
    "在 terminal 執行 gunicorn\n",
    "```\n",
    "gunicorn -b localhost:8080 --log-level=warning flask_app_log:app\n",
    "```"
   ]
  },
  {
   "cell_type": "code",
   "execution_count": null,
   "metadata": {},
   "outputs": [],
   "source": [
    "!siege -c 5 -r 1 -v http://localhost:8080\n",
    "# gunicorn 只會出現 log level >= warning 的 log"
   ]
  },
  {
   "cell_type": "code",
   "execution_count": null,
   "metadata": {},
   "outputs": [],
   "source": []
  }
 ],
 "metadata": {
  "kernelspec": {
   "display_name": "Python 3",
   "language": "python",
   "name": "python3"
  },
  "language_info": {
   "codemirror_mode": {
    "name": "ipython",
    "version": 3
   },
   "file_extension": ".py",
   "mimetype": "text/x-python",
   "name": "python",
   "nbconvert_exporter": "python",
   "pygments_lexer": "ipython3",
   "version": "3.7.2"
  }
 },
 "nbformat": 4,
 "nbformat_minor": 2
}
