{
 "cells": [
  {
   "cell_type": "markdown",
   "metadata": {},
   "source": [
    "# 完成 flask_app.py 的 TODO"
   ]
  },
  {
   "cell_type": "code",
   "execution_count": null,
   "metadata": {},
   "outputs": [],
   "source": [
    "!cat flask_app.py"
   ]
  },
  {
   "cell_type": "markdown",
   "metadata": {},
   "source": [
    "# 透過 gunicorn 執行 flask_app.py  \n",
    "```\n",
    "gunicorn -b localhost:8080 flask_app:app\n",
    "```"
   ]
  },
  {
   "cell_type": "code",
   "execution_count": null,
   "metadata": {},
   "outputs": [],
   "source": [
    "# 測試 flask_app.py 沒問題\n",
    "!curl http://localhost:8080"
   ]
  },
  {
   "cell_type": "markdown",
   "metadata": {},
   "source": [
    "# Gunicorn work type\n",
    "參考 [淺談 Gunicorn 各個 worker type 適合的情境](https://medium.com/@genchilu/%E6%B7%BA%E8%AB%87-gunicorn-%E5%90%84%E5%80%8B-worker-type-%E9%81%A9%E5%90%88%E7%9A%84%E6%83%85%E5%A2%83-490b20707f28)\n",
    "## sync\n",
    "底層實作是每個請求都由一個 process 處理。(gunicorn 預設為此 work type)\n",
    "## gthread\n",
    "則是每個請求都由一個 thread 處理。\n",
    "## eventlet、gevent、tarnado\n",
    "底層則是利用非同步 IO 讓一個 process 在等待 IO 回應時繼續處理下個請求。"
   ]
  },
  {
   "cell_type": "markdown",
   "metadata": {},
   "source": [
    "## 用 process 處理請求\n",
    "當 gunicorn worker type 使用 sync 時，web 啟動時會預先開好對應數量的 process 處理請求，理論上 concurrency 的上限等同於 worker 數量，worker 為 process 的數量，參數為 -w  \n",
    "```\n",
    "gunicorn -w 1 -k sync -b localhost:8080 flask_app:app\n",
    "```\n",
    "這種類型的好處是錯誤隔離高，一個 process 掛掉只會影響該 process 當下服務的請求，而不會影響其他請求。  \n",
    "壞處則為 process 資源開銷較大，開太多 worker 時對記憶體或 CPU 的影響很大，因此 concurrency 理論上限極低。  "
   ]
  },
  {
   "cell_type": "code",
   "execution_count": null,
   "metadata": {},
   "outputs": [],
   "source": [
    "# 用 siege 分別對 IO bound task 和 CPU bound task 發出 2 個請求可以明顯看到第二個 request 被第一個 request 阻塞\n",
    "! siege -c 2 -r 1 http://localhost:8080/ioTask -v\n",
    "! siege -c 2 -r 1 http://localhost:8080/cpuTask -v"
   ]
  },
  {
   "cell_type": "markdown",
   "metadata": {},
   "source": [
    "## 用 thread 處理請求\n",
    "當 gunicorn worker type 用 gthread 時，可額外加參數 --thread 指定每個 process 能開的 thread 數量，此時 concurrency 的上限為 worker 數量乘以給個 worker 能開的 thread 數量  \n",
    "```\n",
    "gunicorn -w 1 -k gthread --thread=2 -b localhost:8080 flask_app:app\n",
    "```\n",
    "這種類型的 worker 好處是 concurrency 理論上限會比 process 高，壞處依然是 thread 數量，OS 中 thread 數量是有限的，過多的 thread 依然會造成系統負擔。"
   ]
  },
  {
   "cell_type": "code",
   "execution_count": null,
   "metadata": {},
   "outputs": [],
   "source": [
    "# 用 siege 分別對 IO bound task 和 CPU bound task 發出 4 個請求可以明顯看到第三個請求以後才會被阻塞\n",
    "! siege -c 4 -r 1 http://localhost:8080/ioTask -v\n",
    "! siege -c 4 -r 1 http://localhost:8080/cpuTask -v"
   ]
  },
  {
   "cell_type": "markdown",
   "metadata": {},
   "source": [
    "## 用非同步 IO 處理每個請求\n",
    "當 gunicorn worker type 用 eventlet、gevent、tarnado 等類型時，每個請求都由同一個 process 處理，而當遇到 IO 時該 process 不會等 IO 回應，會繼續處理下個請求直到該 IO 完成，理論上 concurrency 無上限。\n",
    "```\n",
    "gunicorn -w 1 -k gevent -b localhost:8080 flask_app:app\n",
    "```"
   ]
  },
  {
   "cell_type": "code",
   "execution_count": null,
   "metadata": {},
   "outputs": [],
   "source": [
    "# 用 siege 對 IO bound task 發出 10 個請求可以明顯看到沒有任何請求被阻塞\n",
    "! siege -c 10 -r 1 http://localhost:8080/ioTask -v"
   ]
  },
  {
   "cell_type": "code",
   "execution_count": null,
   "metadata": {},
   "outputs": [],
   "source": [
    "! siege -c 10 -r 1 http://localhost:8080/cpuTask -v"
   ]
  },
  {
   "cell_type": "markdown",
   "metadata": {},
   "source": [
    "使用非同步類型的 worker 好處和壞處非常明顯，對 IO bound task 的高效能，但在 CPU bound task 會不如 thread。"
   ]
  }
 ],
 "metadata": {
  "kernelspec": {
   "display_name": "Python 3",
   "language": "python",
   "name": "python3"
  },
  "language_info": {
   "codemirror_mode": {
    "name": "ipython",
    "version": 3
   },
   "file_extension": ".py",
   "mimetype": "text/x-python",
   "name": "python",
   "nbconvert_exporter": "python",
   "pygments_lexer": "ipython3",
   "version": "3.7.2"
  }
 },
 "nbformat": 4,
 "nbformat_minor": 2
}
