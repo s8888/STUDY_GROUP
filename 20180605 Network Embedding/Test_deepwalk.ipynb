{
 "cells": [
  {
   "cell_type": "code",
   "execution_count": 1,
   "metadata": {},
   "outputs": [],
   "source": [
    "import graph as gf\n",
    "import random\n",
    "from gensim.models import Word2Vec\n",
    "import walks as serialized_walks\n",
    "from skipgram import Skipgram"
   ]
  },
  {
   "cell_type": "code",
   "execution_count": 2,
   "metadata": {},
   "outputs": [],
   "source": [
    "input_G = './example_graphs/karate.adjlist'\n",
    "output = 'karate.embeddings'\n",
    "number_walks = 10\n",
    "walk_length = 40\n",
    "max_memory_data_size = 100000\n",
    "seed = 0\n",
    "representation_size = 64\n",
    "window_size = 5\n",
    "workers = 1\n",
    "vertex_freq_degree = False"
   ]
  },
  {
   "cell_type": "code",
   "execution_count": 3,
   "metadata": {},
   "outputs": [
    {
     "name": "stdout",
     "output_type": "stream",
     "text": [
      "Number of nodes: 34\n"
     ]
    }
   ],
   "source": [
    "G = gf.load_adjacencylist(input_G, undirected=True)\n",
    "print(\"Number of nodes: {}\".format(len(G.nodes())))\n"
   ]
  },
  {
   "cell_type": "code",
   "execution_count": 4,
   "metadata": {},
   "outputs": [
    {
     "name": "stdout",
     "output_type": "stream",
     "text": [
      "Number of walks: 340\n",
      "Data size (walks*length): 13600\n"
     ]
    }
   ],
   "source": [
    "num_walks = len(G.nodes()) * number_walks\n",
    "\n",
    "print(\"Number of walks: {}\".format(num_walks))\n",
    "\n",
    "data_size = num_walks * walk_length\n",
    "\n",
    "print(\"Data size (walks*length): {}\".format(data_size))"
   ]
  },
  {
   "cell_type": "code",
   "execution_count": 5,
   "metadata": {},
   "outputs": [
    {
     "name": "stdout",
     "output_type": "stream",
     "text": [
      "Walking...\n",
      "Training...\n"
     ]
    }
   ],
   "source": [
    "if data_size < max_memory_data_size:\n",
    "    print(\"Walking...\")\n",
    "    walks = gf.build_deepwalk_corpus(G, num_paths=number_walks,\n",
    "                                        path_length=walk_length, alpha=0, rand=random.Random(seed))\n",
    "    print(\"Training...\")\n",
    "    model = Word2Vec(walks, size=representation_size, window=window_size, min_count=0, sg=1, hs=1, workers=workers)\n",
    "else:\n",
    "    print(\"Data size {} is larger than limit (max-memory-data-size: {}).  Dumping walks to disk.\".format(data_size,max_memory_data_size))\n",
    "    print(\"Walking...\")\n",
    "\n",
    "    walks_filebase = output + \".walks\"\n",
    "    walk_files = serialized_walks.write_walks_to_disk(G, walks_filebase, num_paths=number_walks,\n",
    "                                         path_length=walk_length, alpha=0, rand=random.Random(seed),\n",
    "                                         num_workers=workers)\n",
    "\n",
    "    print(\"Counting vertex frequency...\")\n",
    "    if not vertex_freq_degree:\n",
    "        vertex_counts = serialized_walks.count_textfiles(walk_files, workers)\n",
    "    else:\n",
    "      # use degree distribution for frequency in tree\n",
    "      vertex_counts = G.degree(nodes=G.iterkeys())\n",
    "\n",
    "    print(\"Training...\")\n",
    "    walks_corpus = serialized_walks.WalksCorpus(walk_files)\n",
    "    model = Skipgram(sentences=walks_corpus, vocabulary_counts=vertex_counts,\n",
    "                     size=representation_size,window=window_size, min_count=0, trim_rule=None, workers=workers)\n",
    "\n",
    "model.wv.save_word2vec_format(output)"
   ]
  },
  {
   "cell_type": "code",
   "execution_count": null,
   "metadata": {},
   "outputs": [],
   "source": []
  },
  {
   "cell_type": "code",
   "execution_count": null,
   "metadata": {},
   "outputs": [],
   "source": []
  }
 ],
 "metadata": {
  "kernelspec": {
   "display_name": "Python 3",
   "language": "python",
   "name": "python3"
  },
  "language_info": {
   "codemirror_mode": {
    "name": "ipython",
    "version": 3
   },
   "file_extension": ".py",
   "mimetype": "text/x-python",
   "name": "python",
   "nbconvert_exporter": "python",
   "pygments_lexer": "ipython3",
   "version": "3.6.3"
  }
 },
 "nbformat": 4,
 "nbformat_minor": 2
}
