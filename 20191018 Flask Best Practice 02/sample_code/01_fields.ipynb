{
 "cells": [
  {
   "cell_type": "code",
   "execution_count": null,
   "metadata": {},
   "outputs": [],
   "source": [
    "from flask_restplus import fields, marshal"
   ]
  },
  {
   "cell_type": "code",
   "execution_count": null,
   "metadata": {},
   "outputs": [],
   "source": [
    "person = {\n",
    "    \"name\": \"Peter\",\n",
    "    \"city\": \"Taipei\",\n",
    "    \"phone\": \"02-12345678\",\n",
    "    \"gender\": \"Male\",\n",
    "    \"age\": 26,\n",
    "    \"is_admin\": True,\n",
    "}"
   ]
  },
  {
   "cell_type": "markdown",
   "metadata": {},
   "source": [
    "# field"
   ]
  },
  {
   "cell_type": "code",
   "execution_count": null,
   "metadata": {},
   "outputs": [],
   "source": [
    "person_fields = {\n",
    "    \"name\": fields.String,\n",
    "    \"city\": fields.String,\n",
    "    \"phone\": fields.String,\n",
    "    \"gender\": fields.String,\n",
    "    \"age\": fields.Integer,\n",
    "    \"is_admin\": fields.Boolean,\n",
    "    \"has_child\": fields.Boolean,\n",
    "}"
   ]
  },
  {
   "cell_type": "code",
   "execution_count": null,
   "metadata": {},
   "outputs": [],
   "source": [
    "marshal(person, person_fields)"
   ]
  },
  {
   "cell_type": "markdown",
   "metadata": {},
   "source": [
    "## skip_none\n",
    "True: 不會顯示為 None 的欄位"
   ]
  },
  {
   "cell_type": "code",
   "execution_count": null,
   "metadata": {},
   "outputs": [],
   "source": [
    "marshal(person, person_fields, skip_none=True)"
   ]
  },
  {
   "cell_type": "markdown",
   "metadata": {},
   "source": [
    "# fields.Nested\n",
    "\n",
    "more complex fields"
   ]
  },
  {
   "cell_type": "code",
   "execution_count": null,
   "metadata": {},
   "outputs": [],
   "source": [
    "resp_fields = {\"results\": fields.Nested(person_fields, skip_none=True)}\n",
    "marshal({\"results\": person}, resp_fields)"
   ]
  },
  {
   "cell_type": "markdown",
   "metadata": {},
   "source": [
    "# fields.List\n",
    "fields as list"
   ]
  },
  {
   "cell_type": "code",
   "execution_count": null,
   "metadata": {},
   "outputs": [],
   "source": [
    "resp_list_field = {\"results\": fields.List(fields.String)}\n",
    "marshal({\"results\": [\"apple\", \"bee\", \"cat\"]}, resp_list_field, skip_none=True)"
   ]
  },
  {
   "cell_type": "code",
   "execution_count": null,
   "metadata": {},
   "outputs": [],
   "source": [
    "resp_list_field = {\"results\": fields.List(fields.Nested(person_fields, skip_none=True))}\n",
    "marshal({\"results\": [person] * 3}, resp_list_field)"
   ]
  },
  {
   "cell_type": "markdown",
   "metadata": {},
   "source": [
    "# Practice\n",
    "\n",
    "定義一個 task 物件，有三個欄位  \n",
    "1. type: String\n",
    "2. base64_img: String\n",
    "3. is_main: Boolean\n",
    "\n",
    "製作一個可接收格式為 key=\"data\"，value 為 task list 的 field"
   ]
  },
  {
   "cell_type": "code",
   "execution_count": null,
   "metadata": {},
   "outputs": [],
   "source": []
  }
 ],
 "metadata": {
  "kernelspec": {
   "display_name": "Python 3",
   "language": "python",
   "name": "python3"
  },
  "language_info": {
   "codemirror_mode": {
    "name": "ipython",
    "version": 3
   },
   "file_extension": ".py",
   "mimetype": "text/x-python",
   "name": "python",
   "nbconvert_exporter": "python",
   "pygments_lexer": "ipython3",
   "version": "3.7.2"
  }
 },
 "nbformat": 4,
 "nbformat_minor": 2
}
